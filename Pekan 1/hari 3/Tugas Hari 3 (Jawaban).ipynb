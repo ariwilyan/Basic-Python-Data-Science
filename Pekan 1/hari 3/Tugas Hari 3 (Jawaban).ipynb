{
  "nbformat": 4,
  "nbformat_minor": 0,
  "metadata": {
    "kernelspec": {
      "display_name": "Python 3",
      "language": "python",
      "name": "python3"
    },
    "language_info": {
      "codemirror_mode": {
        "name": "ipython",
        "version": 3
      },
      "file_extension": ".py",
      "mimetype": "text/x-python",
      "name": "python",
      "nbconvert_exporter": "python",
      "pygments_lexer": "ipython3",
      "version": "3.7.7"
    },
    "colab": {
      "name": "Tugas Hari 3.ipynb",
      "provenance": []
    },
    "accelerator": "TPU"
  },
  "cells": [
    {
      "cell_type": "markdown",
      "metadata": {
        "id": "a9HYUdCUsrKl"
      },
      "source": [
        "<h2>Soal 1: Comparison Operator</h2>\n",
        "\n",
        "- Berikan contoh comparison dari tipe data string\n",
        "- Berikan contoh comparison dari tipe data boolean\n",
        "- Berikan contoh comparison dari tipe data integer"
      ]
    },
    {
      "cell_type": "code",
      "metadata": {
        "id": "lXMCHZ71srKp",
        "outputId": "91d11ac8-59d2-4f2e-c969-13cd1706536b",
        "colab": {
          "base_uri": "https://localhost:8080/",
          "height": 72
        }
      },
      "source": [
        "# comparison tipe data string\n",
        "print('b' > 'k')\n",
        "# comparison tipe data boolean\n",
        "print(False <= True)\n",
        "# comparison tipe data integer\n",
        "print(10 == 5)"
      ],
      "execution_count": 7,
      "outputs": [
        {
          "output_type": "stream",
          "text": [
            "False\n",
            "True\n",
            "False\n"
          ],
          "name": "stdout"
        }
      ]
    },
    {
      "cell_type": "markdown",
      "metadata": {
        "id": "IbNoZvVssrK5"
      },
      "source": [
        "<h2>Soal 2: Boolean Comparison</h2>\n",
        "\n",
        "- Berikan contoh gabungan multiple comparison menggunkan Boolean Comparisin 'and'\n",
        "- Berikan contoh gabungan multiple comparison menggunkan Boolean Comparisin 'or'\n",
        "- Berikan contoh gabungan multiple comparison menggunkan Boolean Comparisin 'not'"
      ]
    },
    {
      "cell_type": "code",
      "metadata": {
        "id": "7eU1vPLCsrK7",
        "outputId": "0293edd9-0f5b-4432-b013-ea7b79084c39",
        "colab": {
          "base_uri": "https://localhost:8080/",
          "height": 72
        }
      },
      "source": [
        "# gabungan multiple comparison menggunakan boolean comparison 'and'\n",
        "print((10 > 5) and (7 < 4))\n",
        "# gabungan multiple comparison menggunakan boolean comparison 'or'\n",
        "print((6 <= 2) or (3 >= 12))\n",
        "# gabungan multiple comparison menggunakan boolean comparison 'not'\n",
        "print(not((9 != 9) > (8 <= 1)))"
      ],
      "execution_count": 16,
      "outputs": [
        {
          "output_type": "stream",
          "text": [
            "False\n",
            "False\n",
            "True\n"
          ],
          "name": "stdout"
        }
      ]
    },
    {
      "cell_type": "markdown",
      "metadata": {
        "id": "Yp_g_sPMsrLH"
      },
      "source": [
        "<h2>Soal 3: If-Else Statement</h2>\n",
        "\n",
        "Lengkapi kode untuk menghasilkan suatu output yang di harapkan\n",
        "\n",
        "- Bualah sebuah if-else statement yang dimana akan mem-print 'Besar' jika ruangan adalah 'Kamar' dan ukuran lebih dari 12, kemudian mem-print 'Sedang' jika ruangan adalah 'Kamar' dan ukuran lebih dari 6 dan memprint 'Kecil' jika ruangan adalah 'Kamar' dan ukuran ruangan lebih kecil dan sama dengan 6."
      ]
    },
    {
      "cell_type": "code",
      "metadata": {
        "id": "euRiRNupsrLK",
        "outputId": "48e7ac46-8cc0-484c-bb4b-2d19a796b249",
        "colab": {
          "base_uri": "https://localhost:8080/",
          "height": 35
        }
      },
      "source": [
        "ruangan = 'Kamar'\n",
        "size = 20\n",
        "\n",
        "if ((ruangan == 'Kamar') and (size > 12)):\n",
        "    print('Besar')\n",
        "elif ((ruangan == 'Kamar') and (size > 6)):\n",
        "    print('Sedang')\n",
        "elif ((ruangan == 'Kamar') and (size <= 6)):\n",
        "    print('Kecil')"
      ],
      "execution_count": 20,
      "outputs": [
        {
          "output_type": "stream",
          "text": [
            "Besar\n"
          ],
          "name": "stdout"
        }
      ]
    },
    {
      "cell_type": "markdown",
      "metadata": {
        "id": "IcoJXJT1srLW"
      },
      "source": [
        "<h2>Soal 4: Comparison Operator dengan fungsi</h2>\n",
        "\n",
        "Buatlah sebuah fungsi yang menerima satu argument bertipe data numeric dan menghasilkan sebuah return sebagai berikut :\n",
        "- menghasilkan return 'Aneh' jika nilai dari argument tersebut adalah bilangan ganjil\n",
        "- menghasilkan return 'Tidak Aneh' jika nilai dari argument tersebut adalah bilangan genap dan diantara nilai 2 sampai 5 (2 dan 5 termasuk)\n",
        "- menghasilkan return 'Aneh' jika nilai dari argument tersebut adalah bilangan genap dan diantara nilai 6 sampai 20 (6 dan 20 termasuk)\n",
        "- menghasilkan return 'Tidak Aneh' jika nilai dari argument tersebut adalah bilangan genap dan lebih besari dari 20"
      ]
    },
    {
      "cell_type": "code",
      "metadata": {
        "id": "g8F_qfEKsrLZ",
        "outputId": "3057ccec-e9b7-40c2-b382-ea8442ba8123",
        "colab": {
          "base_uri": "https://localhost:8080/",
          "height": 54
        }
      },
      "source": [
        "# Buat fungsi\n",
        "def cekAneh(value):\n",
        "  if ( (value % 2 == 1) or ((value % 2 == 0) and ((value >= 6) and (value <= 20))) ):\n",
        "    return 'Aneh'\n",
        "  elif ( ((value % 2 == 0) and (value > 20)) or ((value % 2 == 0) and ((value >= 2) and (value <= 5))) ):\n",
        "    return 'Tidak Aneh'\n",
        "\n",
        "# cek fungsi\n",
        "print(cekAneh(2))\n",
        "print(cekAneh(10))"
      ],
      "execution_count": 26,
      "outputs": [
        {
          "output_type": "stream",
          "text": [
            "Tidak Aneh\n",
            "Aneh\n"
          ],
          "name": "stdout"
        }
      ]
    },
    {
      "cell_type": "markdown",
      "metadata": {
        "id": "gf0D64xOsrLl"
      },
      "source": [
        "<h2>Soal 5: While Loop dan For Loop</h2>\n",
        "\n",
        "- Apa perbedaan while loop dan for loop?\n",
        "- Berikan contoh sederhana cara menggunakan while loop dan for loop"
      ]
    },
    {
      "cell_type": "markdown",
      "metadata": {
        "id": "BDfsOwSl29Vt"
      },
      "source": [
        "**Jawaban untuk perbedaan while loop dan for loop:**\n",
        "\n",
        "**_while loop:_** `apabila kita gunakan perulangan ini, maka diperlukan suatu counter untuk menangani berhentinya dari perulangan itu sendiri. Jika tidak ada, bisa dipastikan akan terjadi loop forever/infinite loop atau perulangan yang terus terjadi tanpa pernah berhenti.`\n",
        "\n",
        "Sedangkan untuk **_for loop:_** `perulangan ini sangat cocok untuk digunakan apabila kita sudah mengetahui batasan atau seberapa banyak perulangan yang ingin kita jalankan. Karena di for loop sendiri, banyaknya perulangan yang akan dijalankan sudah kita pastikan dari awal dibuatnya perulangan tersebut.`"
      ]
    },
    {
      "cell_type": "markdown",
      "metadata": {
        "id": "Zl4cpJH644i9"
      },
      "source": [
        "### Contoh sederhana penggunaan while loop dan for loop, bisa dilihat pada code block dibawah ini"
      ]
    },
    {
      "cell_type": "code",
      "metadata": {
        "id": "l7KIgpjHsrLo",
        "outputId": "96a493ae-d762-4a59-d987-f9570c5a0213",
        "colab": {
          "base_uri": "https://localhost:8080/",
          "height": 495
        }
      },
      "source": [
        "# Tulis Kode\n",
        "## While Loop\n",
        "print('Contoh Penggunaan While Loop')\n",
        "counter = 1\n",
        "while (counter <= 10):\n",
        "  if (counter % 2 == 0):\n",
        "    print(\"bilangan {} merupakan bilangan genap.\".format(counter))\n",
        "  else:\n",
        "    print(\"bilangan {} merupakan bilangan ganjil.\".format(counter))\n",
        "  counter += 1\n",
        "print(\"=\"*40)\n",
        "\n",
        "## For Loop\n",
        "print('Contoh Penggunaan For Loop')\n",
        "counter2 = 10\n",
        "print('hitung mundur dari {}'.format(counter2))\n",
        "print('--- mulai ---')\n",
        "for item in range(counter2,0,-1):\n",
        "  print('{} detik'.format(item))\n",
        "print('--- selesai ---')"
      ],
      "execution_count": 48,
      "outputs": [
        {
          "output_type": "stream",
          "text": [
            "Contoh Penggunaan While Loop\n",
            "bilangan 1 merupakan bilangan ganjil.\n",
            "bilangan 2 merupakan bilangan genap.\n",
            "bilangan 3 merupakan bilangan ganjil.\n",
            "bilangan 4 merupakan bilangan genap.\n",
            "bilangan 5 merupakan bilangan ganjil.\n",
            "bilangan 6 merupakan bilangan genap.\n",
            "bilangan 7 merupakan bilangan ganjil.\n",
            "bilangan 8 merupakan bilangan genap.\n",
            "bilangan 9 merupakan bilangan ganjil.\n",
            "bilangan 10 merupakan bilangan genap.\n",
            "========================================\n",
            "Contoh Penggunaan For Loop\n",
            "hitung mundur dari 10\n",
            "--- mulai ---\n",
            "10 detik\n",
            "9 detik\n",
            "8 detik\n",
            "7 detik\n",
            "6 detik\n",
            "5 detik\n",
            "4 detik\n",
            "3 detik\n",
            "2 detik\n",
            "1 detik\n",
            "--- selesai ---\n"
          ],
          "name": "stdout"
        }
      ]
    },
    {
      "cell_type": "markdown",
      "metadata": {
        "id": "fZQpBGCgsrLz"
      },
      "source": [
        "<h2>Soal 6: While Loop</h2>\n",
        "    \n",
        "Buatlah sebuah code while loop sebagai berikut :\n",
        "- Buatlah suatu fungsi yang merima satu input nilai numeric\n",
        "- Dalam fungsi, Buat sebuah while-loop dengan melakukan comparasi terhadap inputan tersebut, dimana looping/iterasi terus berjalan apabila nilai inputan tidak sama dengan 0\n",
        "- Dalam setiap iterasi update nilai variable inputan itu, jika input lebih dari 0, maka kurangi variabel tersebut sebesar 1, selain itu tambahkan 1\n",
        "- print nilai variable input dalam setiap awal iterasi"
      ]
    },
    {
      "cell_type": "code",
      "metadata": {
        "id": "yOiqjrU2srL1",
        "outputId": "34c8a89f-ed68-4425-93d2-15cf74899525",
        "colab": {
          "base_uri": "https://localhost:8080/",
          "height": 201
        }
      },
      "source": [
        "a = 10\n",
        "\n",
        "def fungsi_while(value):\n",
        "    while value != 0:\n",
        "      print(value)\n",
        "      if (value > 0):\n",
        "        value -= 1\n",
        "      else:\n",
        "        value += 1\n",
        "\n",
        "fungsi_while(a)"
      ],
      "execution_count": 51,
      "outputs": [
        {
          "output_type": "stream",
          "text": [
            "10\n",
            "9\n",
            "8\n",
            "7\n",
            "6\n",
            "5\n",
            "4\n",
            "3\n",
            "2\n",
            "1\n"
          ],
          "name": "stdout"
        }
      ]
    },
    {
      "cell_type": "markdown",
      "metadata": {
        "id": "lKzngRrlsrMD"
      },
      "source": [
        "Expected Output:\n",
        "\n",
        "10\n",
        "\n",
        "9\n",
        "\n",
        "8\n",
        "\n",
        "7\n",
        "\n",
        "6\n",
        "\n",
        "5\n",
        "\n",
        "4\n",
        "\n",
        "3\n",
        "\n",
        "2\n",
        "\n",
        "1"
      ]
    },
    {
      "cell_type": "markdown",
      "metadata": {
        "id": "IWg3Z_zZsrMG"
      },
      "source": [
        "<h2>Soal 7: For Loop</h2>\n",
        "    \n",
        "Lengkapi kode untuk menghasilkan suatu output yang di harapkan:\n",
        "\n",
        "- Buatlah sebuah loop dengan mengiterasi sebuah objek list kemudian di kalikan dengan index dari list tersebut dan print hasilnya"
      ]
    },
    {
      "cell_type": "code",
      "metadata": {
        "id": "_Jl5i7WKsrMI",
        "outputId": "ef0ecff9-6d94-49a0-9ebe-e318ed188b56",
        "colab": {
          "base_uri": "https://localhost:8080/",
          "height": 109
        }
      },
      "source": [
        "obj_list= [1, 16, 11, 10, 5]\n",
        "\n",
        "# lengkapi code di bawah\n",
        "for index,value in enumerate(obj_list):\n",
        "  print(value*index)"
      ],
      "execution_count": 56,
      "outputs": [
        {
          "output_type": "stream",
          "text": [
            "0\n",
            "16\n",
            "22\n",
            "30\n",
            "20\n"
          ],
          "name": "stdout"
        }
      ]
    },
    {
      "cell_type": "markdown",
      "metadata": {
        "id": "OGawROjnsrMU"
      },
      "source": [
        "Expected Output:\n",
        "\n",
        "0\n",
        "\n",
        "16\n",
        "\n",
        "22\n",
        "\n",
        "30\n",
        "\n",
        "20\n"
      ]
    }
  ]
}