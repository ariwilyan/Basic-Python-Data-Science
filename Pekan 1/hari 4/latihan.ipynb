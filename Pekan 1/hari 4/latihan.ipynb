{
 "cells": [
  {
   "cell_type": "markdown",
   "metadata": {},
   "source": [
    "# List and Dictionary"
   ]
  },
  {
   "cell_type": "markdown",
   "metadata": {},
   "source": [
    "### List"
   ]
  },
  {
   "cell_type": "code",
   "execution_count": 1,
   "metadata": {},
   "outputs": [
    {
     "data": {
      "text/plain": [
       "[21, 20, 22]"
      ]
     },
     "execution_count": 1,
     "metadata": {},
     "output_type": "execute_result"
    }
   ],
   "source": [
    "# inisialisasi suhu anggota keluarga\n",
    "suhu1 = 21\n",
    "suhu2 = 20\n",
    "suhu3 = 22\n",
    "\n",
    "# simpan dalam list\n",
    "suhu_keluarga = [suhu1, suhu2, suhu3]\n",
    "suhu_keluarga"
   ]
  },
  {
   "cell_type": "markdown",
   "metadata": {},
   "source": [
    "### Akses Data List"
   ]
  },
  {
   "cell_type": "code",
   "execution_count": 2,
   "metadata": {},
   "outputs": [
    {
     "name": "stdout",
     "output_type": "stream",
     "text": [
      "162\n",
      "150\n"
     ]
    }
   ],
   "source": [
    "# Membuat data list\n",
    "tinggi_badan = [\n",
    "                162, # index 0 \n",
    "                177, # index 1\n",
    "                182, # index 2\n",
    "                150, # index 3\n",
    "                166 # index 4\n",
    "                ]\n",
    "\n",
    "# Subsetting list\n",
    "print(tinggi_badan[0]) # posisi pertama\n",
    "print(tinggi_badan[-2]) # posis kedua dari belakang"
   ]
  },
  {
   "cell_type": "code",
   "execution_count": 3,
   "metadata": {},
   "outputs": [
    {
     "name": "stdout",
     "output_type": "stream",
     "text": [
      "[162, 177, 182, 150]\n",
      "[182, 150, 166]\n"
     ]
    }
   ],
   "source": [
    "# Slicinglist\n",
    "# Mengambil data dengan index 0, 1, 2, 3\n",
    "print(tinggi_badan[:4]) \n",
    "\n",
    "# Mengambil data dengan index 2, 3, 4\n",
    "print(tinggi_badan[2:5])"
   ]
  },
  {
   "cell_type": "markdown",
   "metadata": {},
   "source": [
    "### Sifat List"
   ]
  },
  {
   "cell_type": "code",
   "execution_count": 4,
   "metadata": {},
   "outputs": [],
   "source": [
    "# membuat list\n",
    "suhu_keluarga_ucup = ['ayah ucup', 19, 'ucup', 19, 'ibu ucup', 20]\n",
    "suhu_keluarga_boy = ['istri boy', 20, 'anak boy', 18, 'istri kedua boy', 21]\n",
    "\n",
    "# membuat list dalam list dan di campur dengan data boolean\n",
    "suhu_keluarga = [suhu_keluarga_ucup, suhu_keluarga_boy]"
   ]
  },
  {
   "cell_type": "code",
   "execution_count": 5,
   "metadata": {},
   "outputs": [
    {
     "data": {
      "text/plain": [
       "['ayah ucup', 19, 'ucup', 19, 'ibu ucup', 20]"
      ]
     },
     "execution_count": 5,
     "metadata": {},
     "output_type": "execute_result"
    }
   ],
   "source": [
    "suhu_keluarga_ucup"
   ]
  },
  {
   "cell_type": "code",
   "execution_count": 6,
   "metadata": {},
   "outputs": [
    {
     "data": {
      "text/plain": [
       "[['ayah ucup', 19, 'ucup', 19, 'ibu ucup', 20],\n",
       " ['istri boy', 20, 'anak boy', 18, 'istri kedua boy', 21]]"
      ]
     },
     "execution_count": 6,
     "metadata": {},
     "output_type": "execute_result"
    }
   ],
   "source": [
    "suhu_keluarga"
   ]
  },
  {
   "cell_type": "markdown",
   "metadata": {},
   "source": [
    "### Manipulasi List"
   ]
  },
  {
   "cell_type": "code",
   "execution_count": 7,
   "metadata": {},
   "outputs": [
    {
     "name": "stdout",
     "output_type": "stream",
     "text": [
      "['ayah ucup', 19, 'ucup', 22, 'ibu ucup', 20]\n"
     ]
    }
   ],
   "source": [
    "# mengubah suhu ucup\n",
    "suhu_keluarga_ucup[3] = 22\n",
    "\n",
    "print(suhu_keluarga_ucup)"
   ]
  },
  {
   "cell_type": "code",
   "execution_count": 8,
   "metadata": {},
   "outputs": [
    {
     "name": "stdout",
     "output_type": "stream",
     "text": [
      "['ayah ucup', 19, 'ucup', 22, 'mamah ucup', 22]\n"
     ]
    }
   ],
   "source": [
    "# mengubah 'ibu ucup' menjadi 'mamah ucup' dan mengubah suhunya\n",
    "suhu_keluarga_ucup[-2:] = ['mamah ucup', 22]\n",
    "print(suhu_keluarga_ucup)"
   ]
  },
  {
   "cell_type": "code",
   "execution_count": 9,
   "metadata": {},
   "outputs": [
    {
     "name": "stdout",
     "output_type": "stream",
     "text": [
      "['ayah ucup', 19, 'ucup', 22, 'mamah ucup', 22, 'adik ucup', 20]\n"
     ]
    }
   ],
   "source": [
    "# menambahkan elemen di list, dengan menggunakan operator '+'\n",
    "suhu_keluarga_ucup = suhu_keluarga_ucup + ['adik ucup', 20]\n",
    "\n",
    "print(suhu_keluarga_ucup)"
   ]
  },
  {
   "cell_type": "code",
   "execution_count": 10,
   "metadata": {},
   "outputs": [],
   "source": [
    "# menghilangkan elemen di dalam list\n",
    "del(suhu_keluarga_ucup[0])"
   ]
  },
  {
   "cell_type": "code",
   "execution_count": 11,
   "metadata": {},
   "outputs": [
    {
     "data": {
      "text/plain": [
       "[19, 'ucup', 22, 'mamah ucup', 22, 'adik ucup', 20]"
      ]
     },
     "execution_count": 11,
     "metadata": {},
     "output_type": "execute_result"
    }
   ],
   "source": [
    "suhu_keluarga_ucup"
   ]
  },
  {
   "cell_type": "code",
   "execution_count": 12,
   "metadata": {},
   "outputs": [
    {
     "data": {
      "text/plain": [
       "19"
      ]
     },
     "execution_count": 12,
     "metadata": {},
     "output_type": "execute_result"
    }
   ],
   "source": [
    "suhu_keluarga_ucup[0]"
   ]
  },
  {
   "cell_type": "markdown",
   "metadata": {},
   "source": [
    "### Some Function in List"
   ]
  },
  {
   "cell_type": "code",
   "execution_count": 13,
   "metadata": {},
   "outputs": [
    {
     "name": "stdout",
     "output_type": "stream",
     "text": [
      "5\n"
     ]
    }
   ],
   "source": [
    "keluarga_ucup = ['mamah', 'papah', 'ucup', 'adek ucup', 'kaka ucup']\n",
    "\n",
    "# berapa banyak anggota keluarga ucup\n",
    "print(len(keluarga_ucup))"
   ]
  },
  {
   "cell_type": "code",
   "execution_count": 14,
   "metadata": {},
   "outputs": [
    {
     "name": "stdout",
     "output_type": "stream",
     "text": [
      "['adek ucup', 'kaka ucup', 'mamah', 'papah', 'ucup']\n"
     ]
    }
   ],
   "source": [
    "print(sorted(keluarga_ucup))"
   ]
  },
  {
   "cell_type": "code",
   "execution_count": 18,
   "metadata": {},
   "outputs": [
    {
     "name": "stdout",
     "output_type": "stream",
     "text": [
      "17\n"
     ]
    }
   ],
   "source": [
    "primes = [2, 3, 5, 7]\n",
    "print(sum(primes))"
   ]
  },
  {
   "cell_type": "markdown",
   "metadata": {},
   "source": [
    "### Dictionary"
   ]
  },
  {
   "cell_type": "code",
   "execution_count": 19,
   "metadata": {},
   "outputs": [
    {
     "data": {
      "text/plain": [
       "{'one': 1, 'two': 2, 'three': 3}"
      ]
     },
     "execution_count": 19,
     "metadata": {},
     "output_type": "execute_result"
    }
   ],
   "source": [
    "numbers = {'one':1, 'two':2, 'three':3}\n",
    "numbers"
   ]
  },
  {
   "cell_type": "code",
   "execution_count": 20,
   "metadata": {},
   "outputs": [
    {
     "name": "stdout",
     "output_type": "stream",
     "text": [
      "1\n"
     ]
    }
   ],
   "source": [
    "# mengakses suatu nilai dalam dictionary dengan cara akses melalui key-nya\n",
    "print(numbers['one'])"
   ]
  },
  {
   "cell_type": "code",
   "execution_count": 21,
   "metadata": {},
   "outputs": [
    {
     "name": "stdout",
     "output_type": "stream",
     "text": [
      "{'one': 'satu', 'two': 2, 'three': 3}\n"
     ]
    }
   ],
   "source": [
    "# mengubah suatu nilai dalam dictionary\n",
    "numbers['one'] = 'satu'\n",
    "print(numbers)"
   ]
  },
  {
   "cell_type": "code",
   "execution_count": 22,
   "metadata": {},
   "outputs": [
    {
     "name": "stdout",
     "output_type": "stream",
     "text": [
      "one = satu\n",
      "two = 2\n",
      "three = 3\n"
     ]
    }
   ],
   "source": [
    "# Jika kita melakukan loop pada suatu dictionary, maka kita akan me-loop terhadap key pada dictionary tersebut\n",
    "for k in numbers:\n",
    "    print(\"{} = {}\".format(k, numbers[k]))"
   ]
  },
  {
   "cell_type": "code",
   "execution_count": 23,
   "metadata": {},
   "outputs": [
    {
     "name": "stdout",
     "output_type": "stream",
     "text": [
      "one = satu\n",
      "two = 2\n",
      "three = 3\n"
     ]
    }
   ],
   "source": [
    "# Object dictionary mempunyai suatu method yang bernama items(),\n",
    "# dimana dengan fungsi ini kita dapat melakukan loop terhadap suatu dictionary beserta dengan key dan value nya.\n",
    "for k, v in numbers.items():\n",
    "    print(\"{} = {}\".format(k, v))"
   ]
  },
  {
   "cell_type": "code",
   "execution_count": 24,
   "metadata": {},
   "outputs": [],
   "source": [
    "len?"
   ]
  },
  {
   "cell_type": "code",
   "execution_count": 25,
   "metadata": {},
   "outputs": [],
   "source": [
    "sum?"
   ]
  },
  {
   "cell_type": "code",
   "execution_count": null,
   "metadata": {},
   "outputs": [],
   "source": []
  }
 ],
 "metadata": {
  "kernelspec": {
   "display_name": "Python 3",
   "language": "python",
   "name": "python3"
  },
  "language_info": {
   "codemirror_mode": {
    "name": "ipython",
    "version": 3
   },
   "file_extension": ".py",
   "mimetype": "text/x-python",
   "name": "python",
   "nbconvert_exporter": "python",
   "pygments_lexer": "ipython3",
   "version": "3.8.3"
  }
 },
 "nbformat": 4,
 "nbformat_minor": 4
}
