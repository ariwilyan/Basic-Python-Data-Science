{
 "cells": [
  {
   "cell_type": "markdown",
   "metadata": {},
   "source": [
    "- Grouping Data\n",
    "- Aggregation/Reduction\n",
    "- Group by data dengan multilevel index"
   ]
  },
  {
   "cell_type": "code",
   "execution_count": 1,
   "metadata": {},
   "outputs": [],
   "source": [
    "import pandas as pd"
   ]
  },
  {
   "cell_type": "code",
   "execution_count": 9,
   "metadata": {},
   "outputs": [],
   "source": [
    "penjualan = {\n",
    "    'Hari' : ['Hari-1']*6 + ['Hari-2']*6,\n",
    "    'toko': ['Bandung', 'Garut', 'Jakarta', 'Garut', 'Bandung', 'Jakarta', 'Bandung', 'Garut', 'Jakarta', 'Garut', 'Bandung', 'Jakarta'],\n",
    "    'Barang': ['Telur', 'Telur', 'Telur', 'Minyak', 'Minyak', 'Minyak', 'Telur', 'Telur', 'Telur', 'Minyak', 'Minyak', 'Minyak'],\n",
    "    'Pendapatan_Kotor': [200000, 300000, 150000, 100000, 120000, 400000, 240000, 320000, 200000, 300000, 150000, 200000],\n",
    "    'Pendapatan_Bersih': [80000, 100000, 50000, 50000, 50000, 200000, 120000, 150000, 120000, 100000, 110000, 90000]\n",
    "}"
   ]
  },
  {
   "cell_type": "code",
   "execution_count": 10,
   "metadata": {},
   "outputs": [],
   "source": [
    "df = pd.DataFrame(penjualan)"
   ]
  },
  {
   "cell_type": "code",
   "execution_count": 11,
   "metadata": {},
   "outputs": [
    {
     "data": {
      "text/html": [
       "<div>\n",
       "<style scoped>\n",
       "    .dataframe tbody tr th:only-of-type {\n",
       "        vertical-align: middle;\n",
       "    }\n",
       "\n",
       "    .dataframe tbody tr th {\n",
       "        vertical-align: top;\n",
       "    }\n",
       "\n",
       "    .dataframe thead th {\n",
       "        text-align: right;\n",
       "    }\n",
       "</style>\n",
       "<table border=\"1\" class=\"dataframe\">\n",
       "  <thead>\n",
       "    <tr style=\"text-align: right;\">\n",
       "      <th></th>\n",
       "      <th>Hari</th>\n",
       "      <th>toko</th>\n",
       "      <th>Barang</th>\n",
       "      <th>Pendapatan_Kotor</th>\n",
       "      <th>Pendapatan_Bersih</th>\n",
       "    </tr>\n",
       "  </thead>\n",
       "  <tbody>\n",
       "    <tr>\n",
       "      <th>0</th>\n",
       "      <td>Hari-1</td>\n",
       "      <td>Bandung</td>\n",
       "      <td>Telur</td>\n",
       "      <td>200000</td>\n",
       "      <td>80000</td>\n",
       "    </tr>\n",
       "    <tr>\n",
       "      <th>1</th>\n",
       "      <td>Hari-1</td>\n",
       "      <td>Garut</td>\n",
       "      <td>Telur</td>\n",
       "      <td>300000</td>\n",
       "      <td>100000</td>\n",
       "    </tr>\n",
       "    <tr>\n",
       "      <th>2</th>\n",
       "      <td>Hari-1</td>\n",
       "      <td>Jakarta</td>\n",
       "      <td>Telur</td>\n",
       "      <td>150000</td>\n",
       "      <td>50000</td>\n",
       "    </tr>\n",
       "    <tr>\n",
       "      <th>3</th>\n",
       "      <td>Hari-1</td>\n",
       "      <td>Garut</td>\n",
       "      <td>Minyak</td>\n",
       "      <td>100000</td>\n",
       "      <td>50000</td>\n",
       "    </tr>\n",
       "    <tr>\n",
       "      <th>4</th>\n",
       "      <td>Hari-1</td>\n",
       "      <td>Bandung</td>\n",
       "      <td>Minyak</td>\n",
       "      <td>120000</td>\n",
       "      <td>50000</td>\n",
       "    </tr>\n",
       "    <tr>\n",
       "      <th>5</th>\n",
       "      <td>Hari-1</td>\n",
       "      <td>Jakarta</td>\n",
       "      <td>Minyak</td>\n",
       "      <td>400000</td>\n",
       "      <td>200000</td>\n",
       "    </tr>\n",
       "    <tr>\n",
       "      <th>6</th>\n",
       "      <td>Hari-2</td>\n",
       "      <td>Bandung</td>\n",
       "      <td>Telur</td>\n",
       "      <td>240000</td>\n",
       "      <td>120000</td>\n",
       "    </tr>\n",
       "    <tr>\n",
       "      <th>7</th>\n",
       "      <td>Hari-2</td>\n",
       "      <td>Garut</td>\n",
       "      <td>Telur</td>\n",
       "      <td>320000</td>\n",
       "      <td>150000</td>\n",
       "    </tr>\n",
       "    <tr>\n",
       "      <th>8</th>\n",
       "      <td>Hari-2</td>\n",
       "      <td>Jakarta</td>\n",
       "      <td>Telur</td>\n",
       "      <td>200000</td>\n",
       "      <td>120000</td>\n",
       "    </tr>\n",
       "    <tr>\n",
       "      <th>9</th>\n",
       "      <td>Hari-2</td>\n",
       "      <td>Garut</td>\n",
       "      <td>Minyak</td>\n",
       "      <td>300000</td>\n",
       "      <td>100000</td>\n",
       "    </tr>\n",
       "    <tr>\n",
       "      <th>10</th>\n",
       "      <td>Hari-2</td>\n",
       "      <td>Bandung</td>\n",
       "      <td>Minyak</td>\n",
       "      <td>150000</td>\n",
       "      <td>110000</td>\n",
       "    </tr>\n",
       "    <tr>\n",
       "      <th>11</th>\n",
       "      <td>Hari-2</td>\n",
       "      <td>Jakarta</td>\n",
       "      <td>Minyak</td>\n",
       "      <td>200000</td>\n",
       "      <td>90000</td>\n",
       "    </tr>\n",
       "  </tbody>\n",
       "</table>\n",
       "</div>"
      ],
      "text/plain": [
       "      Hari     toko  Barang  Pendapatan_Kotor  Pendapatan_Bersih\n",
       "0   Hari-1  Bandung   Telur            200000              80000\n",
       "1   Hari-1    Garut   Telur            300000             100000\n",
       "2   Hari-1  Jakarta   Telur            150000              50000\n",
       "3   Hari-1    Garut  Minyak            100000              50000\n",
       "4   Hari-1  Bandung  Minyak            120000              50000\n",
       "5   Hari-1  Jakarta  Minyak            400000             200000\n",
       "6   Hari-2  Bandung   Telur            240000             120000\n",
       "7   Hari-2    Garut   Telur            320000             150000\n",
       "8   Hari-2  Jakarta   Telur            200000             120000\n",
       "9   Hari-2    Garut  Minyak            300000             100000\n",
       "10  Hari-2  Bandung  Minyak            150000             110000\n",
       "11  Hari-2  Jakarta  Minyak            200000              90000"
      ]
     },
     "execution_count": 11,
     "metadata": {},
     "output_type": "execute_result"
    }
   ],
   "source": [
    "df"
   ]
  },
  {
   "cell_type": "code",
   "execution_count": 12,
   "metadata": {},
   "outputs": [
    {
     "data": {
      "text/plain": [
       "<pandas.core.groupby.generic.DataFrameGroupBy object at 0x00000149B3675940>"
      ]
     },
     "execution_count": 12,
     "metadata": {},
     "output_type": "execute_result"
    }
   ],
   "source": [
    "# Kita ingin mengetahui pendapatan kotor dan bersih berdasarkan hari\n",
    "df.groupby('Hari') # setelah ditentukan index/label yang akan digroupby, selanjutnya kita harus tentukan fungsi aggregasi/reduksi apa yang ingin dilakukan"
   ]
  },
  {
   "cell_type": "code",
   "execution_count": 13,
   "metadata": {},
   "outputs": [
    {
     "data": {
      "text/html": [
       "<div>\n",
       "<style scoped>\n",
       "    .dataframe tbody tr th:only-of-type {\n",
       "        vertical-align: middle;\n",
       "    }\n",
       "\n",
       "    .dataframe tbody tr th {\n",
       "        vertical-align: top;\n",
       "    }\n",
       "\n",
       "    .dataframe thead th {\n",
       "        text-align: right;\n",
       "    }\n",
       "</style>\n",
       "<table border=\"1\" class=\"dataframe\">\n",
       "  <thead>\n",
       "    <tr style=\"text-align: right;\">\n",
       "      <th></th>\n",
       "      <th>Pendapatan_Kotor</th>\n",
       "      <th>Pendapatan_Bersih</th>\n",
       "    </tr>\n",
       "    <tr>\n",
       "      <th>Hari</th>\n",
       "      <th></th>\n",
       "      <th></th>\n",
       "    </tr>\n",
       "  </thead>\n",
       "  <tbody>\n",
       "    <tr>\n",
       "      <th>Hari-1</th>\n",
       "      <td>1270000</td>\n",
       "      <td>530000</td>\n",
       "    </tr>\n",
       "    <tr>\n",
       "      <th>Hari-2</th>\n",
       "      <td>1410000</td>\n",
       "      <td>690000</td>\n",
       "    </tr>\n",
       "  </tbody>\n",
       "</table>\n",
       "</div>"
      ],
      "text/plain": [
       "        Pendapatan_Kotor  Pendapatan_Bersih\n",
       "Hari                                       \n",
       "Hari-1           1270000             530000\n",
       "Hari-2           1410000             690000"
      ]
     },
     "execution_count": 13,
     "metadata": {},
     "output_type": "execute_result"
    }
   ],
   "source": [
    "# fungsi aggregasi/reduksi --> suatu proses menghubungkan data, sehingga didapatkan suatu data yang dimana suatu data tersebut adalah summary dari data-data yang digabungkan tersebut.\n",
    "# contoh fungsi aggregasi dari pandas:\n",
    "# sum, std, min, max\n",
    "df.groupby('Hari').sum()"
   ]
  },
  {
   "cell_type": "code",
   "execution_count": 14,
   "metadata": {},
   "outputs": [
    {
     "data": {
      "text/plain": [
       "<pandas.core.groupby.generic.DataFrameGroupBy object at 0x00000149B3675760>"
      ]
     },
     "execution_count": 14,
     "metadata": {},
     "output_type": "execute_result"
    }
   ],
   "source": [
    "df.groupby(['Hari', 'toko'])"
   ]
  },
  {
   "cell_type": "code",
   "execution_count": 15,
   "metadata": {},
   "outputs": [
    {
     "data": {
      "text/html": [
       "<div>\n",
       "<style scoped>\n",
       "    .dataframe tbody tr th:only-of-type {\n",
       "        vertical-align: middle;\n",
       "    }\n",
       "\n",
       "    .dataframe tbody tr th {\n",
       "        vertical-align: top;\n",
       "    }\n",
       "\n",
       "    .dataframe thead th {\n",
       "        text-align: right;\n",
       "    }\n",
       "</style>\n",
       "<table border=\"1\" class=\"dataframe\">\n",
       "  <thead>\n",
       "    <tr style=\"text-align: right;\">\n",
       "      <th></th>\n",
       "      <th></th>\n",
       "      <th>Pendapatan_Kotor</th>\n",
       "      <th>Pendapatan_Bersih</th>\n",
       "    </tr>\n",
       "    <tr>\n",
       "      <th>Hari</th>\n",
       "      <th>toko</th>\n",
       "      <th></th>\n",
       "      <th></th>\n",
       "    </tr>\n",
       "  </thead>\n",
       "  <tbody>\n",
       "    <tr>\n",
       "      <th rowspan=\"3\" valign=\"top\">Hari-1</th>\n",
       "      <th>Bandung</th>\n",
       "      <td>320000</td>\n",
       "      <td>130000</td>\n",
       "    </tr>\n",
       "    <tr>\n",
       "      <th>Garut</th>\n",
       "      <td>400000</td>\n",
       "      <td>150000</td>\n",
       "    </tr>\n",
       "    <tr>\n",
       "      <th>Jakarta</th>\n",
       "      <td>550000</td>\n",
       "      <td>250000</td>\n",
       "    </tr>\n",
       "    <tr>\n",
       "      <th rowspan=\"3\" valign=\"top\">Hari-2</th>\n",
       "      <th>Bandung</th>\n",
       "      <td>390000</td>\n",
       "      <td>230000</td>\n",
       "    </tr>\n",
       "    <tr>\n",
       "      <th>Garut</th>\n",
       "      <td>620000</td>\n",
       "      <td>250000</td>\n",
       "    </tr>\n",
       "    <tr>\n",
       "      <th>Jakarta</th>\n",
       "      <td>400000</td>\n",
       "      <td>210000</td>\n",
       "    </tr>\n",
       "  </tbody>\n",
       "</table>\n",
       "</div>"
      ],
      "text/plain": [
       "                Pendapatan_Kotor  Pendapatan_Bersih\n",
       "Hari   toko                                        \n",
       "Hari-1 Bandung            320000             130000\n",
       "       Garut              400000             150000\n",
       "       Jakarta            550000             250000\n",
       "Hari-2 Bandung            390000             230000\n",
       "       Garut              620000             250000\n",
       "       Jakarta            400000             210000"
      ]
     },
     "execution_count": 15,
     "metadata": {},
     "output_type": "execute_result"
    }
   ],
   "source": [
    "# kita akan melakukan groupby berdasarkan 2 label/column, yaitu hari dan toko\n",
    "df.groupby(['Hari', 'toko']).sum()"
   ]
  },
  {
   "cell_type": "code",
   "execution_count": null,
   "metadata": {},
   "outputs": [],
   "source": []
  }
 ],
 "metadata": {
  "kernelspec": {
   "display_name": "Python 3",
   "language": "python",
   "name": "python3"
  },
  "language_info": {
   "codemirror_mode": {
    "name": "ipython",
    "version": 3
   },
   "file_extension": ".py",
   "mimetype": "text/x-python",
   "name": "python",
   "nbconvert_exporter": "python",
   "pygments_lexer": "ipython3",
   "version": "3.8.3"
  }
 },
 "nbformat": 4,
 "nbformat_minor": 4
}
