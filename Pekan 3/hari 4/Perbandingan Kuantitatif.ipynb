{
 "cells": [
  {
   "cell_type": "markdown",
   "metadata": {},
   "source": [
    "beberapa **bentuk visualisasi** :\n",
    "\n",
    "- Line Plot (sudah dipelajari sebelumnya)\n",
    "- Bar Chart\n",
    "- Scatter Plot\n",
    "- Histogram"
   ]
  },
  {
   "cell_type": "code",
   "execution_count": 1,
   "metadata": {},
   "outputs": [],
   "source": [
    "import pandas as pd"
   ]
  },
  {
   "cell_type": "code",
   "execution_count": 4,
   "metadata": {},
   "outputs": [
    {
     "data": {
      "text/html": [
       "<div>\n",
       "<style scoped>\n",
       "    .dataframe tbody tr th:only-of-type {\n",
       "        vertical-align: middle;\n",
       "    }\n",
       "\n",
       "    .dataframe tbody tr th {\n",
       "        vertical-align: top;\n",
       "    }\n",
       "\n",
       "    .dataframe thead th {\n",
       "        text-align: right;\n",
       "    }\n",
       "</style>\n",
       "<table border=\"1\" class=\"dataframe\">\n",
       "  <thead>\n",
       "    <tr style=\"text-align: right;\">\n",
       "      <th></th>\n",
       "      <th>Rank</th>\n",
       "      <th>Name</th>\n",
       "      <th>Platform</th>\n",
       "      <th>Year</th>\n",
       "      <th>Genre</th>\n",
       "      <th>Publisher</th>\n",
       "      <th>NA_Sales</th>\n",
       "      <th>EU_Sales</th>\n",
       "      <th>JP_Sales</th>\n",
       "      <th>Other_Sales</th>\n",
       "      <th>Global_Sales</th>\n",
       "    </tr>\n",
       "  </thead>\n",
       "  <tbody>\n",
       "    <tr>\n",
       "      <th>0</th>\n",
       "      <td>1</td>\n",
       "      <td>Wii Sports</td>\n",
       "      <td>Wii</td>\n",
       "      <td>2006.0</td>\n",
       "      <td>Sports</td>\n",
       "      <td>Nintendo</td>\n",
       "      <td>41.49</td>\n",
       "      <td>29.02</td>\n",
       "      <td>3.77</td>\n",
       "      <td>8.46</td>\n",
       "      <td>82.74</td>\n",
       "    </tr>\n",
       "    <tr>\n",
       "      <th>1</th>\n",
       "      <td>2</td>\n",
       "      <td>Super Mario Bros.</td>\n",
       "      <td>NES</td>\n",
       "      <td>1985.0</td>\n",
       "      <td>Platform</td>\n",
       "      <td>Nintendo</td>\n",
       "      <td>29.08</td>\n",
       "      <td>3.58</td>\n",
       "      <td>6.81</td>\n",
       "      <td>0.77</td>\n",
       "      <td>40.24</td>\n",
       "    </tr>\n",
       "    <tr>\n",
       "      <th>2</th>\n",
       "      <td>3</td>\n",
       "      <td>Mario Kart Wii</td>\n",
       "      <td>Wii</td>\n",
       "      <td>2008.0</td>\n",
       "      <td>Racing</td>\n",
       "      <td>Nintendo</td>\n",
       "      <td>15.85</td>\n",
       "      <td>12.88</td>\n",
       "      <td>3.79</td>\n",
       "      <td>3.31</td>\n",
       "      <td>35.82</td>\n",
       "    </tr>\n",
       "    <tr>\n",
       "      <th>3</th>\n",
       "      <td>4</td>\n",
       "      <td>Wii Sports Resort</td>\n",
       "      <td>Wii</td>\n",
       "      <td>2009.0</td>\n",
       "      <td>Sports</td>\n",
       "      <td>Nintendo</td>\n",
       "      <td>15.75</td>\n",
       "      <td>11.01</td>\n",
       "      <td>3.28</td>\n",
       "      <td>2.96</td>\n",
       "      <td>33.00</td>\n",
       "    </tr>\n",
       "    <tr>\n",
       "      <th>4</th>\n",
       "      <td>5</td>\n",
       "      <td>Pokemon Red/Pokemon Blue</td>\n",
       "      <td>GB</td>\n",
       "      <td>1996.0</td>\n",
       "      <td>Role-Playing</td>\n",
       "      <td>Nintendo</td>\n",
       "      <td>11.27</td>\n",
       "      <td>8.89</td>\n",
       "      <td>10.22</td>\n",
       "      <td>1.00</td>\n",
       "      <td>31.37</td>\n",
       "    </tr>\n",
       "  </tbody>\n",
       "</table>\n",
       "</div>"
      ],
      "text/plain": [
       "   Rank                      Name Platform    Year         Genre Publisher  \\\n",
       "0     1                Wii Sports      Wii  2006.0        Sports  Nintendo   \n",
       "1     2         Super Mario Bros.      NES  1985.0      Platform  Nintendo   \n",
       "2     3            Mario Kart Wii      Wii  2008.0        Racing  Nintendo   \n",
       "3     4         Wii Sports Resort      Wii  2009.0        Sports  Nintendo   \n",
       "4     5  Pokemon Red/Pokemon Blue       GB  1996.0  Role-Playing  Nintendo   \n",
       "\n",
       "   NA_Sales  EU_Sales  JP_Sales  Other_Sales  Global_Sales  \n",
       "0     41.49     29.02      3.77         8.46         82.74  \n",
       "1     29.08      3.58      6.81         0.77         40.24  \n",
       "2     15.85     12.88      3.79         3.31         35.82  \n",
       "3     15.75     11.01      3.28         2.96         33.00  \n",
       "4     11.27      8.89     10.22         1.00         31.37  "
      ]
     },
     "execution_count": 4,
     "metadata": {},
     "output_type": "execute_result"
    }
   ],
   "source": [
    "df = pd.read_csv('vgsales.csv')\n",
    "df.head()"
   ]
  },
  {
   "cell_type": "markdown",
   "metadata": {},
   "source": [
    "## Pengenalan Beberapa Bentuk Visualisasi\n",
    "\n",
    "### Bar Chart\n",
    "Bar chart bisa di buat dengan **method bar**. Bar chart berguna untuk memvisualisasikan frekuensi kejadian suatu data berdasarkan suatu **kategori**. Jadi, bar chart ini di visualisasikan untuk **_membandingkan data_** yang **bertipe kategori**. Bar chart berguna bila **jumlah kategori tidak lebih dari 30** pada umumnya. Apabila lebih dari itu, biasanya bar chart akan menjadi kacau sehingga data sulit untuk di interpretasi."
   ]
  },
  {
   "cell_type": "code",
   "execution_count": 5,
   "metadata": {},
   "outputs": [
    {
     "data": {
      "image/png": "[encoded data removed]",
      "text/plain": [
       "<Figure size 432x288 with 1 Axes>"
      ]
     },
     "metadata": {
      "needs_background": "light"
     },
     "output_type": "display_data"
    }
   ],
   "source": [
    "# contoh visualiasi bar chart\n",
    "\n",
    "# import library\n",
    "import pandas as pd\n",
    "import matplotlib.pyplot as plt\n",
    "\n",
    "# read data vgsales\n",
    "df = pd.read_csv('vgsales.csv')\n",
    "\n",
    "# extract data tentang banyaknya setiap jenis genre dalam data\n",
    "data = df['Genre'].value_counts()\n",
    "category = data.index\n",
    "frequency = data.values\n",
    "\n",
    "# plot data\n",
    "fig, ax = plt.subplots()\n",
    "\n",
    "ax.bar(category, frequency)\n",
    "ax.set_xticklabels(category, rotation=90)\n",
    "\n",
    "plt.show()"
   ]
  },
  {
   "cell_type": "markdown",
   "metadata": {},
   "source": [
    "**Note** : Dari gambar di atas dapat di lihat bahwa data ini memiliki paling banyak data video games dengan genre Action, kemudian Sport, dan seterusnya.\n",
    "\n",
    "Method **set_xticklabels()** adalah untuk **mengontrol komponen label data di sumbu x**. di berikan label nya dengan data category, dan di putar sebesar 90 derajat agar label tidak bertumpuk."
   ]
  },
  {
   "cell_type": "code",
   "execution_count": 8,
   "metadata": {},
   "outputs": [
    {
     "data": {
      "text/plain": [
       "Action          3316\n",
       "Sports          2346\n",
       "Misc            1739\n",
       "Role-Playing    1488\n",
       "Shooter         1310\n",
       "Adventure       1286\n",
       "Racing          1249\n",
       "Platform         886\n",
       "Simulation       867\n",
       "Fighting         848\n",
       "Strategy         681\n",
       "Puzzle           582\n",
       "Name: Genre, dtype: int64"
      ]
     },
     "execution_count": 8,
     "metadata": {},
     "output_type": "execute_result"
    }
   ],
   "source": [
    "data"
   ]
  },
  {
   "cell_type": "code",
   "execution_count": 9,
   "metadata": {},
   "outputs": [
    {
     "data": {
      "text/plain": [
       "Index(['Action', 'Sports', 'Misc', 'Role-Playing', 'Shooter', 'Adventure',\n",
       "       'Racing', 'Platform', 'Simulation', 'Fighting', 'Strategy', 'Puzzle'],\n",
       "      dtype='object')"
      ]
     },
     "execution_count": 9,
     "metadata": {},
     "output_type": "execute_result"
    }
   ],
   "source": [
    "data.index"
   ]
  },
  {
   "cell_type": "code",
   "execution_count": 10,
   "metadata": {},
   "outputs": [
    {
     "data": {
      "text/plain": [
       "array([3316, 2346, 1739, 1488, 1310, 1286, 1249,  886,  867,  848,  681,\n",
       "        582], dtype=int64)"
      ]
     },
     "execution_count": 10,
     "metadata": {},
     "output_type": "execute_result"
    }
   ],
   "source": [
    "data.values"
   ]
  },
  {
   "cell_type": "markdown",
   "metadata": {},
   "source": [
    "## Scatter Plot\n",
    "\n",
    "Scatter plot berguna untuk **melakukan perbandingan data antara data bertipe _numerik_**. untuk melakukan visualisasi scatter plot bisa dilakukan menggunakan method **scatter()**."
   ]
  },
  {
   "cell_type": "code",
   "execution_count": 11,
   "metadata": {},
   "outputs": [
    {
     "data": {
      "image/png": "[encoded data removed]",
      "text/plain": [
       "<Figure size 432x288 with 1 Axes>"
      ]
     },
     "metadata": {
      "needs_background": "light"
     },
     "output_type": "display_data"
    }
   ],
   "source": [
    "# contoh visualisasi scatter plot\n",
    "fig, ax = plt.subplots()\n",
    "\n",
    "# pembuatan plot\n",
    "ax.scatter(df['JP_Sales'], df['EU_Sales'], c='g')\n",
    "\n",
    "# axis labeling\n",
    "ax.set_xlabel('Penjualan di Jepang')\n",
    "ax.set_ylabel('Penjualan di Europa')\n",
    "ax.set_title('Penjualan Semua Video Games')\n",
    "\n",
    "plt.show()"
   ]
  },
  {
   "cell_type": "markdown",
   "metadata": {},
   "source": [
    "## Histogram\n",
    "\n",
    "Histogram mempunyai **kemiripan dengan bar chart**, beberapa **keliru** memahami bahwa **bar chart sama dengan histogram**. **Kunci dari perbedaannya** adalah **_Histogram_** untuk memvisualisasikan **distribusi data dari suatu data bertipe _numerik dan continues_**, sedangan **_bar chart_** untuk memvisualisasikan **data bertipe _kategori_**."
   ]
  },
  {
   "cell_type": "code",
   "execution_count": 12,
   "metadata": {},
   "outputs": [
    {
     "data": {
      "image/png": "[encoded data removed]",
      "text/plain": [
       "<Figure size 1152x576 with 2 Axes>"
      ]
     },
     "metadata": {
      "needs_background": "light"
     },
     "output_type": "display_data"
    }
   ],
   "source": [
    "# contoh visualisasi histogram\n",
    "action = df[df['Genre'] == 'Action']['Global_Sales']\n",
    "sport = df[df['Genre'] == 'Sports']['Global_Sales']\n",
    "\n",
    "fig, ax = plt.subplots(ncols=2, figsize=(16, 8))\n",
    "\n",
    "ax[0].hist(action, bins=50)\n",
    "ax[0].set_xlabel('Penjualan Global Game Action')\n",
    "ax[0].set_ylabel('Frekuensi')\n",
    "ax[0].set_title('Distribusi Game Action Global')\n",
    "\n",
    "ax[1].hist(sport, bins=50, color='g')\n",
    "ax[1].set_xlabel('Penjualan Global Game Sports')\n",
    "ax[1].set_ylabel('Frekuensi')\n",
    "ax[1].set_title('Distribusi Game Sports Global')\n",
    "\n",
    "plt.show()"
   ]
  },
  {
   "cell_type": "code",
   "execution_count": 13,
   "metadata": {},
   "outputs": [
    {
     "data": {
      "text/plain": [
       "16       21.40\n",
       "17       20.81\n",
       "23       16.38\n",
       "24       16.15\n",
       "38       13.10\n",
       "         ...  \n",
       "16564     0.01\n",
       "16567     0.01\n",
       "16582     0.01\n",
       "16583     0.01\n",
       "16589     0.01\n",
       "Name: Global_Sales, Length: 3316, dtype: float64"
      ]
     },
     "execution_count": 13,
     "metadata": {},
     "output_type": "execute_result"
    }
   ],
   "source": [
    "action"
   ]
  },
  {
   "cell_type": "code",
   "execution_count": 14,
   "metadata": {},
   "outputs": [
    {
     "data": {
      "text/html": [
       "<div>\n",
       "<style scoped>\n",
       "    .dataframe tbody tr th:only-of-type {\n",
       "        vertical-align: middle;\n",
       "    }\n",
       "\n",
       "    .dataframe tbody tr th {\n",
       "        vertical-align: top;\n",
       "    }\n",
       "\n",
       "    .dataframe thead th {\n",
       "        text-align: right;\n",
       "    }\n",
       "</style>\n",
       "<table border=\"1\" class=\"dataframe\">\n",
       "  <thead>\n",
       "    <tr style=\"text-align: right;\">\n",
       "      <th></th>\n",
       "      <th>Rank</th>\n",
       "      <th>Name</th>\n",
       "      <th>Platform</th>\n",
       "      <th>Year</th>\n",
       "      <th>Genre</th>\n",
       "      <th>Publisher</th>\n",
       "      <th>NA_Sales</th>\n",
       "      <th>EU_Sales</th>\n",
       "      <th>JP_Sales</th>\n",
       "      <th>Other_Sales</th>\n",
       "      <th>Global_Sales</th>\n",
       "    </tr>\n",
       "  </thead>\n",
       "  <tbody>\n",
       "    <tr>\n",
       "      <th>16</th>\n",
       "      <td>17</td>\n",
       "      <td>Grand Theft Auto V</td>\n",
       "      <td>PS3</td>\n",
       "      <td>2013.0</td>\n",
       "      <td>Action</td>\n",
       "      <td>Take-Two Interactive</td>\n",
       "      <td>7.01</td>\n",
       "      <td>9.27</td>\n",
       "      <td>0.97</td>\n",
       "      <td>4.14</td>\n",
       "      <td>21.40</td>\n",
       "    </tr>\n",
       "    <tr>\n",
       "      <th>17</th>\n",
       "      <td>18</td>\n",
       "      <td>Grand Theft Auto: San Andreas</td>\n",
       "      <td>PS2</td>\n",
       "      <td>2004.0</td>\n",
       "      <td>Action</td>\n",
       "      <td>Take-Two Interactive</td>\n",
       "      <td>9.43</td>\n",
       "      <td>0.40</td>\n",
       "      <td>0.41</td>\n",
       "      <td>10.57</td>\n",
       "      <td>20.81</td>\n",
       "    </tr>\n",
       "    <tr>\n",
       "      <th>23</th>\n",
       "      <td>24</td>\n",
       "      <td>Grand Theft Auto V</td>\n",
       "      <td>X360</td>\n",
       "      <td>2013.0</td>\n",
       "      <td>Action</td>\n",
       "      <td>Take-Two Interactive</td>\n",
       "      <td>9.63</td>\n",
       "      <td>5.31</td>\n",
       "      <td>0.06</td>\n",
       "      <td>1.38</td>\n",
       "      <td>16.38</td>\n",
       "    </tr>\n",
       "    <tr>\n",
       "      <th>24</th>\n",
       "      <td>25</td>\n",
       "      <td>Grand Theft Auto: Vice City</td>\n",
       "      <td>PS2</td>\n",
       "      <td>2002.0</td>\n",
       "      <td>Action</td>\n",
       "      <td>Take-Two Interactive</td>\n",
       "      <td>8.41</td>\n",
       "      <td>5.49</td>\n",
       "      <td>0.47</td>\n",
       "      <td>1.78</td>\n",
       "      <td>16.15</td>\n",
       "    </tr>\n",
       "    <tr>\n",
       "      <th>38</th>\n",
       "      <td>39</td>\n",
       "      <td>Grand Theft Auto III</td>\n",
       "      <td>PS2</td>\n",
       "      <td>2001.0</td>\n",
       "      <td>Action</td>\n",
       "      <td>Take-Two Interactive</td>\n",
       "      <td>6.99</td>\n",
       "      <td>4.51</td>\n",
       "      <td>0.30</td>\n",
       "      <td>1.30</td>\n",
       "      <td>13.10</td>\n",
       "    </tr>\n",
       "    <tr>\n",
       "      <th>...</th>\n",
       "      <td>...</td>\n",
       "      <td>...</td>\n",
       "      <td>...</td>\n",
       "      <td>...</td>\n",
       "      <td>...</td>\n",
       "      <td>...</td>\n",
       "      <td>...</td>\n",
       "      <td>...</td>\n",
       "      <td>...</td>\n",
       "      <td>...</td>\n",
       "      <td>...</td>\n",
       "    </tr>\n",
       "    <tr>\n",
       "      <th>16564</th>\n",
       "      <td>16567</td>\n",
       "      <td>Original Frisbee Disc Sports: Ultimate &amp; Golf</td>\n",
       "      <td>DS</td>\n",
       "      <td>2007.0</td>\n",
       "      <td>Action</td>\n",
       "      <td>Destination Software, Inc</td>\n",
       "      <td>0.01</td>\n",
       "      <td>0.00</td>\n",
       "      <td>0.00</td>\n",
       "      <td>0.00</td>\n",
       "      <td>0.01</td>\n",
       "    </tr>\n",
       "    <tr>\n",
       "      <th>16567</th>\n",
       "      <td>16570</td>\n",
       "      <td>Fujiko F. Fujio Characters: Great Assembly! Sl...</td>\n",
       "      <td>3DS</td>\n",
       "      <td>2014.0</td>\n",
       "      <td>Action</td>\n",
       "      <td>Namco Bandai Games</td>\n",
       "      <td>0.00</td>\n",
       "      <td>0.00</td>\n",
       "      <td>0.01</td>\n",
       "      <td>0.00</td>\n",
       "      <td>0.01</td>\n",
       "    </tr>\n",
       "    <tr>\n",
       "      <th>16582</th>\n",
       "      <td>16585</td>\n",
       "      <td>Planet Monsters</td>\n",
       "      <td>GBA</td>\n",
       "      <td>2001.0</td>\n",
       "      <td>Action</td>\n",
       "      <td>Titus</td>\n",
       "      <td>0.01</td>\n",
       "      <td>0.00</td>\n",
       "      <td>0.00</td>\n",
       "      <td>0.00</td>\n",
       "      <td>0.01</td>\n",
       "    </tr>\n",
       "    <tr>\n",
       "      <th>16583</th>\n",
       "      <td>16586</td>\n",
       "      <td>Carmageddon 64</td>\n",
       "      <td>N64</td>\n",
       "      <td>1999.0</td>\n",
       "      <td>Action</td>\n",
       "      <td>Virgin Interactive</td>\n",
       "      <td>0.01</td>\n",
       "      <td>0.00</td>\n",
       "      <td>0.00</td>\n",
       "      <td>0.00</td>\n",
       "      <td>0.01</td>\n",
       "    </tr>\n",
       "    <tr>\n",
       "      <th>16589</th>\n",
       "      <td>16592</td>\n",
       "      <td>Chou Ezaru wa Akai Hana: Koi wa Tsuki ni Shiru...</td>\n",
       "      <td>PSV</td>\n",
       "      <td>2016.0</td>\n",
       "      <td>Action</td>\n",
       "      <td>dramatic create</td>\n",
       "      <td>0.00</td>\n",
       "      <td>0.00</td>\n",
       "      <td>0.01</td>\n",
       "      <td>0.00</td>\n",
       "      <td>0.01</td>\n",
       "    </tr>\n",
       "  </tbody>\n",
       "</table>\n",
       "<p>3316 rows × 11 columns</p>\n",
       "</div>"
      ],
      "text/plain": [
       "        Rank                                               Name Platform  \\\n",
       "16        17                                 Grand Theft Auto V      PS3   \n",
       "17        18                      Grand Theft Auto: San Andreas      PS2   \n",
       "23        24                                 Grand Theft Auto V     X360   \n",
       "24        25                        Grand Theft Auto: Vice City      PS2   \n",
       "38        39                               Grand Theft Auto III      PS2   \n",
       "...      ...                                                ...      ...   \n",
       "16564  16567      Original Frisbee Disc Sports: Ultimate & Golf       DS   \n",
       "16567  16570  Fujiko F. Fujio Characters: Great Assembly! Sl...      3DS   \n",
       "16582  16585                                    Planet Monsters      GBA   \n",
       "16583  16586                                     Carmageddon 64      N64   \n",
       "16589  16592  Chou Ezaru wa Akai Hana: Koi wa Tsuki ni Shiru...      PSV   \n",
       "\n",
       "         Year   Genre                  Publisher  NA_Sales  EU_Sales  \\\n",
       "16     2013.0  Action       Take-Two Interactive      7.01      9.27   \n",
       "17     2004.0  Action       Take-Two Interactive      9.43      0.40   \n",
       "23     2013.0  Action       Take-Two Interactive      9.63      5.31   \n",
       "24     2002.0  Action       Take-Two Interactive      8.41      5.49   \n",
       "38     2001.0  Action       Take-Two Interactive      6.99      4.51   \n",
       "...       ...     ...                        ...       ...       ...   \n",
       "16564  2007.0  Action  Destination Software, Inc      0.01      0.00   \n",
       "16567  2014.0  Action         Namco Bandai Games      0.00      0.00   \n",
       "16582  2001.0  Action                      Titus      0.01      0.00   \n",
       "16583  1999.0  Action         Virgin Interactive      0.01      0.00   \n",
       "16589  2016.0  Action            dramatic create      0.00      0.00   \n",
       "\n",
       "       JP_Sales  Other_Sales  Global_Sales  \n",
       "16         0.97         4.14         21.40  \n",
       "17         0.41        10.57         20.81  \n",
       "23         0.06         1.38         16.38  \n",
       "24         0.47         1.78         16.15  \n",
       "38         0.30         1.30         13.10  \n",
       "...         ...          ...           ...  \n",
       "16564      0.00         0.00          0.01  \n",
       "16567      0.01         0.00          0.01  \n",
       "16582      0.00         0.00          0.01  \n",
       "16583      0.00         0.00          0.01  \n",
       "16589      0.01         0.00          0.01  \n",
       "\n",
       "[3316 rows x 11 columns]"
      ]
     },
     "execution_count": 14,
     "metadata": {},
     "output_type": "execute_result"
    }
   ],
   "source": [
    "df[df['Genre'] == 'Action']"
   ]
  },
  {
   "cell_type": "code",
   "execution_count": 18,
   "metadata": {},
   "outputs": [
    {
     "data": {
      "text/plain": [
       "16       21.40\n",
       "17       20.81\n",
       "23       16.38\n",
       "24       16.15\n",
       "38       13.10\n",
       "         ...  \n",
       "16564     0.01\n",
       "16567     0.01\n",
       "16582     0.01\n",
       "16583     0.01\n",
       "16589     0.01\n",
       "Name: Global_Sales, Length: 3316, dtype: float64"
      ]
     },
     "execution_count": 18,
     "metadata": {},
     "output_type": "execute_result"
    }
   ],
   "source": [
    "df[df['Genre'] == 'Action']['Global_Sales']"
   ]
  },
  {
   "cell_type": "markdown",
   "metadata": {},
   "source": [
    "# Tugas"
   ]
  },
  {
   "cell_type": "code",
   "execution_count": 1,
   "metadata": {},
   "outputs": [
    {
     "ename": "NameError",
     "evalue": "name 'np' is not defined",
     "output_type": "error",
     "traceback": [
      "\u001b[1;31m---------------------------------------------------------------------------\u001b[0m",
      "\u001b[1;31mNameError\u001b[0m                                 Traceback (most recent call last)",
      "\u001b[1;32m<ipython-input-1-f7b66b33cefb>\u001b[0m in \u001b[0;36m<module>\u001b[1;34m\u001b[0m\n\u001b[1;32m----> 1\u001b[1;33m \u001b[0mx\u001b[0m \u001b[1;33m=\u001b[0m \u001b[0mnp\u001b[0m\u001b[1;33m.\u001b[0m\u001b[0marray\u001b[0m\u001b[1;33m(\u001b[0m\u001b[1;33m[\u001b[0m\u001b[1;36m24\u001b[0m\u001b[1;33m]\u001b[0m\u001b[1;33m)\u001b[0m\u001b[1;33m\u001b[0m\u001b[1;33m\u001b[0m\u001b[0m\n\u001b[0m\u001b[0;32m      2\u001b[0m \u001b[1;33m\u001b[0m\u001b[0m\n\u001b[0;32m      3\u001b[0m \u001b[0mfig\u001b[0m\u001b[1;33m,\u001b[0m \u001b[0max\u001b[0m \u001b[1;33m=\u001b[0m \u001b[0mplt\u001b[0m\u001b[1;33m.\u001b[0m\u001b[0msubplots\u001b[0m\u001b[1;33m(\u001b[0m\u001b[0mfigsize\u001b[0m\u001b[1;33m=\u001b[0m\u001b[1;33m(\u001b[0m\u001b[1;36m16\u001b[0m\u001b[1;33m,\u001b[0m \u001b[1;36m8\u001b[0m\u001b[1;33m)\u001b[0m\u001b[1;33m)\u001b[0m\u001b[1;33m\u001b[0m\u001b[1;33m\u001b[0m\u001b[0m\n\u001b[0;32m      4\u001b[0m \u001b[1;33m\u001b[0m\u001b[0m\n\u001b[0;32m      5\u001b[0m \u001b[0max\u001b[0m\u001b[1;33m.\u001b[0m\u001b[0mbar\u001b[0m\u001b[1;33m(\u001b[0m\u001b[0mx\u001b[0m\u001b[1;33m,\u001b[0m \u001b[0mdf_mean\u001b[0m\u001b[1;33m.\u001b[0m\u001b[0mloc\u001b[0m\u001b[1;33m[\u001b[0m\u001b[1;34m'Action'\u001b[0m\u001b[1;33m,\u001b[0m \u001b[1;34m'NA_Sales'\u001b[0m\u001b[1;33m]\u001b[0m\u001b[1;33m,\u001b[0m \u001b[0mwidth\u001b[0m\u001b[1;33m=\u001b[0m\u001b[1;36m0.3\u001b[0m\u001b[1;33m,\u001b[0m \u001b[0mlabel\u001b[0m\u001b[1;33m=\u001b[0m\u001b[1;34m'Action'\u001b[0m\u001b[1;33m)\u001b[0m\u001b[1;33m\u001b[0m\u001b[1;33m\u001b[0m\u001b[0m\n",
      "\u001b[1;31mNameError\u001b[0m: name 'np' is not defined"
     ]
    }
   ],
   "source": [
    "x = np.array([24])\n",
    "\n",
    "fig, ax = plt.subplots(figsize=(16, 8))\n",
    "\n",
    "ax.bar(x, df_mean.loc['Action', 'NA_Sales'], width=0.3, label='Action')\n",
    "ax.bar(x+0.3, df_mean.loc['Adventure', 'NA_Sales'], width=0.3, label='Adventure')\n",
    "ax.bar(x+0.6, df_mean.loc['Fighting', 'NA_Sales'], width=0.3, label='Fighting')\n",
    "ax.bar(x+0.9, df_mean.loc['Misc', 'NA_Sales'], width=0.3, label='Misc')\n",
    "ax.bar(x+1.2, df_mean.loc['Platform', 'NA_Sales'], width=0.3, label='Platform')\n",
    "ax.bar(x+1.5, df_mean.loc['Puzzle', 'NA_Sales'], width=0.3, label='Puzzle')\n",
    "ax.bar(x+1.8, df_mean.loc['Racing', 'NA_Sales'], width=0.3, label='Racing')\n",
    "ax.bar(x+2.1, df_mean.loc['Role-Playing', 'NA_Sales'], width=0.3, label='Role-Playing')\n",
    "ax.bar(x+2.4, df_mean.loc['Shooter', 'NA_Sales'], width=0.3, label='Shooter')\n",
    "ax.bar(x+2.7, df_mean.loc['Simulation', 'NA_Sales'], width=0.3, label='Simulation')\n",
    "ax.bar(x+3.0, df_mean.loc['Sports', 'NA_Sales'], width=0.3, label='Sports')\n",
    "ax.bar(x+3.3, df_mean.loc['Strategy', 'NA_Sales'], width=0.3, label='Strategy')\n",
    "\n",
    "ax.bar(x+4.2, df_mean.loc['Action', 'EU_Sales'], width=0.3, label='Action')\n",
    "ax.bar(x+4.5, df_mean.loc['Adventure', 'EU_Sales'], width=0.3, label='Adventure')\n",
    "ax.bar(x+4.8, df_mean.loc['Fighting', 'EU_Sales'], width=0.3, label='Fighting')\n",
    "ax.bar(x+5.1, df_mean.loc['Misc', 'EU_Sales'], width=0.3, label='Misc')\n",
    "ax.bar(x+5.4, df_mean.loc['Platform', 'EU_Sales'], width=0.3, label='Platform')\n",
    "ax.bar(x+5.7, df_mean.loc['Puzzle', 'EU_Sales'], width=0.3, label='Puzzle')\n",
    "ax.bar(x+6.0, df_mean.loc['Racing', 'EU_Sales'], width=0.3, label='Racing')\n",
    "ax.bar(x+6.3, df_mean.loc['Role-Playing', 'EU_Sales'], width=0.3, label='Role-Playing')\n",
    "ax.bar(x+6.6, df_mean.loc['Shooter', 'EU_Sales'], width=0.3, label='Shooter')\n",
    "ax.bar(x+6.9, df_mean.loc['Simulation', 'EU_Sales'], width=0.3, label='Simulation')\n",
    "ax.bar(x+7.2, df_mean.loc['Sports', 'EU_Sales'], width=0.3, label='Sports')\n",
    "ax.bar(x+7.5, df_mean.loc['Strategy', 'EU_Sales'], width=0.3, label='Strategy')\n",
    "\n",
    "plt.show()"
   ]
  },
  {
   "cell_type": "code",
   "execution_count": 2,
   "metadata": {},
   "outputs": [
    {
     "ename": "NameError",
     "evalue": "name 'ax' is not defined",
     "output_type": "error",
     "traceback": [
      "\u001b[1;31m---------------------------------------------------------------------------\u001b[0m",
      "\u001b[1;31mNameError\u001b[0m                                 Traceback (most recent call last)",
      "\u001b[1;32m<ipython-input-2-8631deb18f04>\u001b[0m in \u001b[0;36m<module>\u001b[1;34m\u001b[0m\n\u001b[1;32m----> 1\u001b[1;33m \u001b[0max\u001b[0m\u001b[1;33m.\u001b[0m\u001b[0mbar\u001b[0m\u001b[1;33m(\u001b[0m\u001b[0mx_new\u001b[0m\u001b[1;33m,\u001b[0m \u001b[0mdf_mean\u001b[0m\u001b[1;33m.\u001b[0m\u001b[0mloc\u001b[0m\u001b[1;33m[\u001b[0m\u001b[1;34m'Action'\u001b[0m\u001b[1;33m,\u001b[0m \u001b[1;34m'NA_Sales'\u001b[0m\u001b[1;33m]\u001b[0m\u001b[1;33m,\u001b[0m \u001b[0mlabel\u001b[0m\u001b[1;33m=\u001b[0m\u001b[1;34m'Action'\u001b[0m\u001b[1;33m)\u001b[0m\u001b[1;33m\u001b[0m\u001b[1;33m\u001b[0m\u001b[0m\n\u001b[0m\u001b[0;32m      2\u001b[0m \u001b[0max\u001b[0m\u001b[1;33m.\u001b[0m\u001b[0mbar\u001b[0m\u001b[1;33m(\u001b[0m\u001b[0mx_new\u001b[0m\u001b[1;33m,\u001b[0m \u001b[0mdf_mean\u001b[0m\u001b[1;33m.\u001b[0m\u001b[0mloc\u001b[0m\u001b[1;33m[\u001b[0m\u001b[1;34m'Adventure'\u001b[0m\u001b[1;33m,\u001b[0m \u001b[1;34m'NA_Sales'\u001b[0m\u001b[1;33m]\u001b[0m\u001b[1;33m,\u001b[0m \u001b[0mbottom\u001b[0m\u001b[1;33m=\u001b[0m\u001b[0mdf_mean\u001b[0m\u001b[1;33m.\u001b[0m\u001b[0mloc\u001b[0m\u001b[1;33m[\u001b[0m\u001b[1;34m'Action'\u001b[0m\u001b[1;33m,\u001b[0m \u001b[1;34m'NA_Sales'\u001b[0m\u001b[1;33m]\u001b[0m\u001b[1;33m,\u001b[0m \u001b[0mlabel\u001b[0m\u001b[1;33m=\u001b[0m\u001b[1;34m'Adventure'\u001b[0m\u001b[1;33m)\u001b[0m\u001b[1;33m\u001b[0m\u001b[1;33m\u001b[0m\u001b[0m\n\u001b[0;32m      3\u001b[0m \u001b[0max\u001b[0m\u001b[1;33m.\u001b[0m\u001b[0mbar\u001b[0m\u001b[1;33m(\u001b[0m\u001b[0mx_new\u001b[0m\u001b[1;33m,\u001b[0m \u001b[0mdf_mean\u001b[0m\u001b[1;33m.\u001b[0m\u001b[0mloc\u001b[0m\u001b[1;33m[\u001b[0m\u001b[1;34m'Fighting'\u001b[0m\u001b[1;33m,\u001b[0m \u001b[1;34m'NA_Sales'\u001b[0m\u001b[1;33m]\u001b[0m\u001b[1;33m,\u001b[0m \u001b[0mbottom\u001b[0m\u001b[1;33m=\u001b[0m\u001b[0mdf_mean\u001b[0m\u001b[1;33m.\u001b[0m\u001b[0mloc\u001b[0m\u001b[1;33m[\u001b[0m\u001b[1;34m'Action'\u001b[0m\u001b[1;33m,\u001b[0m \u001b[1;34m'NA_Sales'\u001b[0m\u001b[1;33m]\u001b[0m\u001b[1;33m+\u001b[0m\u001b[0mdf_mean\u001b[0m\u001b[1;33m.\u001b[0m\u001b[0mloc\u001b[0m\u001b[1;33m[\u001b[0m\u001b[1;34m'Adventure'\u001b[0m\u001b[1;33m,\u001b[0m \u001b[1;34m'NA_Sales'\u001b[0m\u001b[1;33m]\u001b[0m\u001b[1;33m,\u001b[0m \u001b[0mlabel\u001b[0m\u001b[1;33m=\u001b[0m\u001b[1;34m'Fighting'\u001b[0m\u001b[1;33m)\u001b[0m\u001b[1;33m\u001b[0m\u001b[1;33m\u001b[0m\u001b[0m\n\u001b[0;32m      4\u001b[0m \u001b[1;33m\u001b[0m\u001b[0m\n\u001b[0;32m      5\u001b[0m \u001b[0max\u001b[0m\u001b[1;33m.\u001b[0m\u001b[0mbar\u001b[0m\u001b[1;33m(\u001b[0m\u001b[0mx_new\u001b[0m\u001b[1;33m,\u001b[0m \u001b[0mdf_mean\u001b[0m\u001b[1;33m.\u001b[0m\u001b[0mloc\u001b[0m\u001b[1;33m[\u001b[0m\u001b[1;34m'Action'\u001b[0m\u001b[1;33m,\u001b[0m \u001b[1;34m'EU_Sales'\u001b[0m\u001b[1;33m]\u001b[0m\u001b[1;33m,\u001b[0m \u001b[0mlabel\u001b[0m\u001b[1;33m=\u001b[0m\u001b[1;34m'Action'\u001b[0m\u001b[1;33m)\u001b[0m\u001b[1;33m\u001b[0m\u001b[1;33m\u001b[0m\u001b[0m\n",
      "\u001b[1;31mNameError\u001b[0m: name 'ax' is not defined"
     ]
    }
   ],
   "source": [
    "\n",
    "ax.bar(x_new, df_mean.loc['Action', 'NA_Sales'], label='Action')\n",
    "ax.bar(x_new, df_mean.loc['Adventure', 'NA_Sales'], bottom=df_mean.loc['Action', 'NA_Sales'], label='Adventure')\n",
    "ax.bar(x_new, df_mean.loc['Fighting', 'NA_Sales'], bottom=df_mean.loc['Action', 'NA_Sales']+df_mean.loc['Adventure', 'NA_Sales'], label='Fighting')\n",
    "\n",
    "ax.bar(x_new, df_mean.loc['Action', 'EU_Sales'], label='Action')\n",
    "ax.bar(x_new, df_mean.loc['Adventure', 'EU_Sales'], bottom=df_mean.loc['Action', 'NA_Sales'], label='Adventure')\n",
    "ax.bar(x_new, df_mean.loc['Fighting', 'EU_Sales'], bottom=df_mean.loc['Action', 'NA_Sales']+df_mean.loc['Adventure', 'NA_Sales'], label='Fighting')"
   ]
  },
  {
   "cell_type": "code",
   "execution_count": null,
   "metadata": {},
   "outputs": [],
   "source": []
  }
 ],
 "metadata": {
  "kernelspec": {
   "display_name": "Python 3",
   "language": "python",
   "name": "python3"
  },
  "language_info": {
   "codemirror_mode": {
    "name": "ipython",
    "version": 3
   },
   "file_extension": ".py",
   "mimetype": "text/x-python",
   "name": "python",
   "nbconvert_exporter": "python",
   "pygments_lexer": "ipython3",
   "version": "3.8.3"
  }
 },
 "nbformat": 4,
 "nbformat_minor": 4
}
